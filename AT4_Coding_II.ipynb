{
  "nbformat": 4,
  "nbformat_minor": 0,
  "metadata": {
    "colab": {
      "provenance": [],
      "collapsed_sections": [],
      "authorship_tag": "ABX9TyPib8rK4xUuJAKhWT8GjO8D",
      "include_colab_link": true
    },
    "kernelspec": {
      "name": "python3",
      "display_name": "Python 3"
    },
    "language_info": {
      "name": "python"
    }
  },
  "cells": [
    {
      "cell_type": "markdown",
      "metadata": {
        "id": "view-in-github",
        "colab_type": "text"
      },
      "source": [
        "<a href=\"https://colab.research.google.com/github/brazadrian/aprendendo-python/blob/1-at4-coding-ii/AT4_Coding_II.ipynb\" target=\"_parent\"><img src=\"https://colab.research.google.com/assets/colab-badge.svg\" alt=\"Open In Colab\"/></a>"
      ]
    },
    {
      "cell_type": "markdown",
      "source": [
        "1. Faça um programa que leia um nome de usuário e a sua senha e não aceite a senha igual ao nome do usuário, mostrando uma mensagem de erro e voltando a pedir as informações."
      ],
      "metadata": {
        "id": "vTC1PMqEcD9a"
      }
    },
    {
      "cell_type": "code",
      "execution_count": null,
      "metadata": {
        "id": "hmF_hvNcb-n8"
      },
      "outputs": [],
      "source": [
        "# Declaração de variáveis e entrada de dados\n",
        "nome = input(\"Digite seu nome: \")\n",
        "senha = input(\"Digite sua senha: \")\n",
        "\n",
        "# Verificação quanto à igualdade do nome e senha e repetição de solicitação, caso sejam iguais\n",
        "while senha == nome:\n",
        "  print(\"\\nSeu nome e senha estão iguais! Favor, digite-os diferentes.\")\n",
        "  nome = input(\"Digite seu nome: \")\n",
        "  senha = input(\"Digite sua senha: \")\n",
        "else:\n",
        "  print(f\"\\nParabéns, {nome}! Login e senha registrados.\")"
      ]
    },
    {
      "cell_type": "markdown",
      "source": [
        "2. Faça um programa que receba a temperatura média de cada mês do ano e armazene-as em uma lista. Após isto, calcule a média anual das temperaturas e mostre todas as temperaturas acima da média anual, e em que mês elas ocorreram (mostrar o mês por extenso: 1 – janeiro, 2 – fevereiro, . . .)."
      ],
      "metadata": {
        "id": "01Lxga6Wq8A_"
      }
    },
    {
      "cell_type": "code",
      "source": [
        "from statistics import mean\n",
        "\n",
        "meses = [\"Janeiro\", \"Fevereiro\", \"Março\", \"Abril\", \"Maio\", \"Junho\", \"Julho\", \"Agosto\", \"Setembro\", \"Outubro\", \"Novembro\", \"Dezembro\"]\n",
        "\n",
        "temperaturas = []\n",
        "\n",
        "for i in range(0, len(meses)):\n",
        "  temperaturas.append(float(input(f\"Digite a temperatura (ºC) média do {i + 1}º mês, {meses[i]}: \"))) # Digite a média do 1º mês, Janeiro: \n",
        "\n",
        "mediaTemp = mean(temperaturas) # mean retorna a média aritmética identificada na lista\n",
        "\n",
        "print(f\"A média de anual das temperaturas é de: {mediaTemp}ºC\") # Média: XºC\n",
        "\n",
        "print(\"Os meses que registraram as temperaturas acima da média foram:\")\n",
        "for i in range(0, len(temperaturas)):\n",
        "    if temperaturas[i] > mediaTemp:\n",
        "      print(f\"{i + 1} - {meses[i]}: {temperaturas[i]}ºC\") # 1 - Janeiro : XºC\n"
      ],
      "metadata": {
        "id": "PyqPYZGoq6xM"
      },
      "execution_count": null,
      "outputs": []
    },
    {
      "cell_type": "markdown",
      "source": [
        "3.  Faça um Programa que leia 4 notas, mostre as notas e a média."
      ],
      "metadata": {
        "id": "C9VHYEZLtnjG"
      }
    },
    {
      "cell_type": "code",
      "source": [
        "notas = []\n",
        "\n",
        "for i in range(0, 4):\n",
        "  notas.append(float(input(f\"Digite a {i + 1}ª nota do aluno: \")))\n",
        "print(f\"As notas registradas foram: {notas}\")\n",
        "\n",
        "mediaNotas = mean(notas)\n",
        "print(f\"A média média do aluno é igual a: {mediaNotas}\")"
      ],
      "metadata": {
        "id": "9VwHQH6vuXsj"
      },
      "execution_count": null,
      "outputs": []
    },
    {
      "cell_type": "markdown",
      "source": [
        "4.  Faça um programa que imprima na tela apenas os números ímpares entre 1 e 50."
      ],
      "metadata": {
        "id": "DEUJQoMMtsMr"
      }
    },
    {
      "cell_type": "code",
      "source": [
        "for i in range(1, 50 + 1, 2):\n",
        "  print(i)"
      ],
      "metadata": {
        "id": "xLzWk8g4uZdt"
      },
      "execution_count": null,
      "outputs": []
    },
    {
      "cell_type": "markdown",
      "source": [
        "5.  Faça um programa que leia 5 números e informe o maior número."
      ],
      "metadata": {
        "id": "FOW9T9jStsWu"
      }
    },
    {
      "cell_type": "code",
      "source": [
        "numeros = []\n",
        "for i in range(0, 5):\n",
        "  numeros.append(float(input(f\"Digite o {i + 1}º número: \")))\n",
        "maior = numeros[0]\n",
        "\n",
        "for i in range(1, len(numeros)):\n",
        "  if numeros[i] > maior:\n",
        "    maior = numeros[i]\n",
        "\n",
        "print(f\"O maior valor é: {maior}\")\n",
        "\n",
        "  \n"
      ],
      "metadata": {
        "id": "XHy7i5XsuZwM"
      },
      "execution_count": null,
      "outputs": []
    },
    {
      "cell_type": "markdown",
      "source": [
        "6. Desenvolva um jogo de acerte o número, onde o computador escolhe um número inteiro aleatório de 0 a 20, e o usuário tem 5 tentativas para adivinhar o número"
      ],
      "metadata": {
        "id": "6bXJJfbwtsd2"
      }
    },
    {
      "cell_type": "code",
      "source": [
        "import random\n",
        "\n",
        "num = random.randint(0, 20)\n",
        "\n",
        "print(num)\n",
        "print(random.randint(0,9))\n"
      ],
      "metadata": {
        "id": "a38XqP0eubIs",
        "colab": {
          "base_uri": "https://localhost:8080/"
        },
        "outputId": "e1848f3e-e4d5-466e-fc8f-667a103e8e7a"
      },
      "execution_count": 24,
      "outputs": [
        {
          "output_type": "stream",
          "name": "stdout",
          "text": [
            "2\n",
            "7\n"
          ]
        }
      ]
    },
    {
      "cell_type": "markdown",
      "source": [
        "7. Palíndromo. Um palíndromo é uma sequência de caracteres cuja leitura é idêntica se feita da direita para esquerda ou vice-versa. Por exemplo: OSSO e OVO são palíndromos. Em textos mais complexos os espaços e pontuação são ignorados. A frase SUBI NO ONIBUS é o exemplo de uma frase palíndroma onde os espaços foram ignorados. Faça um programa que leia uma sequência de caracteres, mostre-a e diga se é um palíndromo ou não.\n"
      ],
      "metadata": {
        "id": "JReu6wfwtsg9"
      }
    },
    {
      "cell_type": "code",
      "source": [],
      "metadata": {
        "id": "E9wm7dlXua09"
      },
      "execution_count": null,
      "outputs": []
    },
    {
      "cell_type": "markdown",
      "source": [
        "8.  Jogo da palavra embaralhada. Desenvolva um jogo em que o usuário tenha que adivinhar uma palavra que será mostrada com as letras embaralhadas. O programa terá uma lista de palavras previamente definidas e escolherá uma aleatoriamente. O jogador terá seis tentativas para adivinhar a palavra. Ao final a palavra deve ser mostrada na tela, informando se o usuário ganhou ou perdeu o jogo.\n"
      ],
      "metadata": {
        "id": "0XlkXWtNtskC"
      }
    },
    {
      "cell_type": "code",
      "source": [],
      "metadata": {
        "id": "NMs6RYIcuaqe"
      },
      "execution_count": null,
      "outputs": []
    },
    {
      "cell_type": "markdown",
      "source": [
        "9.  Utilizando listas faça um programa que faça 5 perguntas para uma pessoa sobre um crime. As perguntas são:\n",
        "\n",
        "\"Telefonou para a vítima?\"\n",
        "\n",
        "\"Esteve no local do crime?\"\n",
        "\n",
        "\"Mora perto da vítima?\"\n",
        "\n",
        "\"Devia para a vítima?\"\n",
        "\n",
        "\"Já trabalhou com a vítima?\"\n",
        "\n",
        "O programa deve no final emitir uma classificação sobre a participação da pessoa no crime. Se a pessoa responder positivamente a 2 questões ela deve ser classificada como \"Suspeita\", entre 3 e 4 como \"Cúmplice\" e 5 como \"Assassino\". Caso contrário, ele será classificado como \"Inocente\"."
      ],
      "metadata": {
        "id": "TZIgzV_Itsmw"
      }
    },
    {
      "cell_type": "code",
      "source": [],
      "metadata": {
        "id": "Cyg6y0AVuaZR"
      },
      "execution_count": null,
      "outputs": []
    },
    {
      "cell_type": "markdown",
      "source": [
        "10. Faça um Programa que peça os 3 lados de um triângulo. O programa deverá informar se os valores podem ser um triângulo."
      ],
      "metadata": {
        "id": "JlzFnpl5t0so"
      }
    },
    {
      "cell_type": "code",
      "source": [],
      "metadata": {
        "id": "vFVxw_1OuaKc"
      },
      "execution_count": null,
      "outputs": []
    }
  ]
}