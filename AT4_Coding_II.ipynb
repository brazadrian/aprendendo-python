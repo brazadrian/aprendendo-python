{
  "cells": [
    {
      "cell_type": "markdown",
      "metadata": {
        "id": "view-in-github",
        "colab_type": "text"
      },
      "source": [
        "<a href=\"https://colab.research.google.com/github/brazadrian/aprendendo-python/blob/1-at4-coding-ii/AT4_Coding_II.ipynb\" target=\"_parent\"><img src=\"https://colab.research.google.com/assets/colab-badge.svg\" alt=\"Open In Colab\"/></a>"
      ]
    },
    {
      "cell_type": "markdown",
      "metadata": {
        "id": "vTC1PMqEcD9a"
      },
      "source": [
        "1. Faça um programa que leia um nome de usuário e a sua senha e não aceite a senha igual ao nome do usuário, mostrando uma mensagem de erro e voltando a pedir as informações."
      ]
    },
    {
      "cell_type": "code",
      "execution_count": null,
      "metadata": {
        "id": "hmF_hvNcb-n8"
      },
      "outputs": [],
      "source": [
        "# Declaração de variáveis e entrada de dados\n",
        "nome = input(\"Digite seu nome: \")\n",
        "senha = input(\"Digite sua senha: \")\n",
        "\n",
        "# Verificação quanto à igualdade do nome e senha e repetição de solicitação, caso sejam iguais\n",
        "while senha == nome:\n",
        "  print(\"\\nSeu nome e senha estão iguais! Favor, digite-os diferentes.\")\n",
        "  nome = input(\"Digite seu nome: \")\n",
        "  senha = input(\"Digite sua senha: \")\n",
        "else:\n",
        "  print(f\"\\nParabéns, {nome}! Login e senha registrados.\")\n"
      ]
    },
    {
      "cell_type": "markdown",
      "metadata": {
        "id": "01Lxga6Wq8A_"
      },
      "source": [
        "2. Faça um programa que receba a temperatura média de cada mês do ano e armazene-as em uma lista. Após isto, calcule a média anual das temperaturas e mostre todas as temperaturas acima da média anual, e em que mês elas ocorreram (mostrar o mês por extenso: 1 – janeiro, 2 – fevereiro, . . .)."
      ]
    },
    {
      "cell_type": "code",
      "execution_count": null,
      "metadata": {
        "id": "PyqPYZGoq6xM"
      },
      "outputs": [],
      "source": [
        "from statistics import mean\n",
        "\n",
        "meses = [\"Janeiro\", \"Fevereiro\", \"Março\", \"Abril\", \"Maio\", \"Junho\", \"Julho\", \"Agosto\", \"Setembro\", \"Outubro\", \"Novembro\", \"Dezembro\"]\n",
        "\n",
        "temperaturas = []\n",
        "\n",
        "for i in range(0, len(meses)):\n",
        "  temperaturas.append(float(input(f\"Digite a temperatura (ºC) média do {i + 1}º mês, {meses[i]}: \"))) # Digite a média do 1º mês, Janeiro: \n",
        "\n",
        "mediaTemp = mean(temperaturas) # mean retorna a média aritmética identificada na lista\n",
        "\n",
        "print(f\"A média de anual das temperaturas é de: {mediaTemp}ºC\") # Média: XºC\n",
        "\n",
        "print(\"Os meses que registraram as temperaturas acima da média foram:\")\n",
        "for i in range(0, len(temperaturas)):\n",
        "    if temperaturas[i] > mediaTemp:\n",
        "      print(f\"{i + 1} - {meses[i]}: {temperaturas[i]}ºC\") # 1 - Janeiro : XºC\n"
      ]
    },
    {
      "cell_type": "markdown",
      "metadata": {
        "id": "C9VHYEZLtnjG"
      },
      "source": [
        "3.  Faça um Programa que leia 4 notas, mostre as notas e a média."
      ]
    },
    {
      "cell_type": "code",
      "execution_count": null,
      "metadata": {
        "id": "9VwHQH6vuXsj"
      },
      "outputs": [],
      "source": [
        "notas = []\n",
        "\n",
        "for i in range(0, 4):\n",
        "  notas.append(float(input(f\"Digite a {i + 1}ª nota do aluno: \")))\n",
        "print(f\"As notas registradas foram: {notas}\")\n",
        "\n",
        "mediaNotas = mean(notas)\n",
        "print(f\"A média média do aluno é igual a: {mediaNotas}\")\n"
      ]
    },
    {
      "cell_type": "markdown",
      "metadata": {
        "id": "DEUJQoMMtsMr"
      },
      "source": [
        "4.  Faça um programa que imprima na tela apenas os números ímpares entre 1 e 50."
      ]
    },
    {
      "cell_type": "code",
      "execution_count": null,
      "metadata": {
        "id": "xLzWk8g4uZdt"
      },
      "outputs": [],
      "source": [
        "for i in range(1, 50 + 1, 2):\n",
        "  print(i)\n"
      ]
    },
    {
      "cell_type": "markdown",
      "metadata": {
        "id": "FOW9T9jStsWu"
      },
      "source": [
        "5.  Faça um programa que leia 5 números e informe o maior número."
      ]
    },
    {
      "cell_type": "code",
      "execution_count": null,
      "metadata": {
        "id": "XHy7i5XsuZwM"
      },
      "outputs": [],
      "source": [
        "numeros = []\n",
        "for i in range(0, 5):\n",
        "  numeros.append(float(input(f\"Digite o {i + 1}º número: \")))\n",
        "maior = numeros[0]\n",
        "\n",
        "for i in range(1, len(numeros)):\n",
        "  if numeros[i] > maior:\n",
        "    maior = numeros[i]\n",
        "\n",
        "print(f\"O maior valor é: {maior}\")\n"
      ]
    },
    {
      "cell_type": "markdown",
      "metadata": {
        "id": "6bXJJfbwtsd2"
      },
      "source": [
        "6. Desenvolva um jogo de acerte o número, onde o computador escolhe um número inteiro aleatório de 0 a 20, e o usuário tem 5 tentativas para adivinhar o número"
      ]
    },
    {
      "cell_type": "code",
      "execution_count": null,
      "metadata": {
        "id": "a38XqP0eubIs"
      },
      "outputs": [],
      "source": [
        "import random\n",
        "\n",
        "# Escolhendo número aleatório entre 0 e 20\n",
        "num = random.randint(0, 20)\n",
        "# print(num)\n",
        "print(\"Você tem apenas 5 tentativas para descobrir qual foi o número sorteado, entre 0 e 20. Boa sorte!\")\n",
        "for i in range(1, 5 + 1):\n",
        "  num_user = int(input(f\"{i}ª tentativa: \"))\n",
        "  diferenca = num_user - num\n",
        "  if diferenca > 0: # Caso seja um número maior que o \n",
        "    print(\"É um número MENOR\")\n",
        "  elif diferenca < 0:\n",
        "    print(\"É um número MAIOR\")\n",
        "  else:\n",
        "    print(\"Parabéns! Você acertou.\")\n",
        "    break\n"
      ]
    },
    {
      "cell_type": "markdown",
      "metadata": {
        "id": "JReu6wfwtsg9"
      },
      "source": [
        "7. Palíndromo. Um palíndromo é uma sequência de caracteres cuja leitura é idêntica se feita da direita para esquerda ou vice-versa. Por exemplo: OSSO e OVO são palíndromos. Em textos mais complexos os espaços e pontuação são ignorados. A frase SUBI NO ONIBUS é o exemplo de uma frase palíndroma onde os espaços foram ignorados. Faça um programa que leia uma sequência de caracteres, mostre-a e diga se é um palíndromo ou não.\n"
      ]
    },
    {
      "cell_type": "code",
      "execution_count": null,
      "metadata": {
        "id": "E9wm7dlXua09"
      },
      "outputs": [],
      "source": [
        "palavra = input(\"Escreva um palíndromo: \")\n",
        "\n",
        "# Substituindo os espaços por null na variável \"Palavra (sem) Espaço\"\n",
        "plv_esp = palavra.replace(\" \", \"\")\n",
        "# Atribuindo a \"Palavra (sem) Espaço\" invertida à variável \"Palavra Invertida\"\n",
        "plv_inv = plv_esp[::-1]\n",
        "\n",
        "print(\"\")\n",
        "\n",
        "if plv_esp == plv_inv:\n",
        "  print(f\"\\\"{palavra}\\\" é um palíndromo!\")\n",
        "  print(f\"{plv_esp} = {plv_inv}\")\n",
        "else:\n",
        "  print(f\"\\\"{palavra}\\\" não é um palíndromo!\")\n",
        "  print(f\"{plv_esp} != {plv_inv}\")\n"
      ]
    },
    {
      "cell_type": "markdown",
      "metadata": {
        "id": "0XlkXWtNtskC"
      },
      "source": [
        "8.  Jogo da palavra embaralhada. Desenvolva um jogo em que o usuário tenha que adivinhar uma palavra que será mostrada com as letras embaralhadas. O programa terá uma lista de palavras previamente definidas e escolherá uma aleatoriamente. O jogador terá seis tentativas para adivinhar a palavra. Ao final a palavra deve ser mostrada na tela, informando se o usuário ganhou ou perdeu o jogo.\n"
      ]
    },
    {
      "cell_type": "code",
      "execution_count": null,
      "metadata": {
        "id": "NMs6RYIcuaqe"
      },
      "outputs": [],
      "source": [
        "import random\n",
        "\n",
        "# Lista com as palavras\n",
        "palavras = [\"lento\", \"blefe\", \"zebra\", \"poesia\", \"cerco\", \"retrovisor\", \"surfe\", \"palavras\", \"fazer\", \"lanterna\"]\n",
        "# Indíce para sorteio da palavra\n",
        "ind_rand = random.randint(0, len(palavras) - 1)\n",
        "# Atribuindo o item da lista escolhido à uma variável\n",
        "palavra = palavras[ind_rand]\n",
        "# Emaralhando as letras da string, transformando-a em uma lista, executando o embaralhamento e juntando-a numa string novamente\n",
        "randomizada = list(palavra.strip())\n",
        "random.shuffle(randomizada)\n",
        "pal_rand = ''.join(randomizada)\n",
        "\n",
        "print(\"Palavra escolhida:\", palavra)\n",
        "print(\"Palavra randomizada:\", pal_rand)\n",
        "\n",
        "for i in range(0, 6):\n",
        "  plv_usuario = input(f\"{i + 1}ª tentativa, desembaralhe a palavra acima: \")\n",
        "  if plv_usuario.upper() == palavra.upper():\n",
        "    print(f\"Parabéns, você acertou! A palavra desembaralhada é: {palavra}\")\n",
        "    break\n",
        "  else:\n",
        "    print(f\"Ainda não é a palavra certa, tente novamente...\")\n",
        "    continue\n"
      ]
    },
    {
      "cell_type": "markdown",
      "metadata": {
        "id": "TZIgzV_Itsmw"
      },
      "source": [
        "9.  Utilizando listas faça um programa que faça 5 perguntas para uma pessoa sobre um crime. As perguntas são:\n",
        "\n",
        "\"Telefonou para a vítima?\"\n",
        "\n",
        "\"Esteve no local do crime?\"\n",
        "\n",
        "\"Mora perto da vítima?\"\n",
        "\n",
        "\"Devia para a vítima?\"\n",
        "\n",
        "\"Já trabalhou com a vítima?\"\n",
        "\n",
        "O programa deve no final emitir uma classificação sobre a participação da pessoa no crime. Se a pessoa responder positivamente a 2 questões ela deve ser classificada como \"Suspeita\", entre 3 e 4 como \"Cúmplice\" e 5 como \"Assassino\". Caso contrário, ele será classificado como \"Inocente\"."
      ]
    },
    {
      "cell_type": "code",
      "execution_count": null,
      "metadata": {
        "id": "Cyg6y0AVuaZR"
      },
      "outputs": [],
      "source": [
        "print(\"Olá, você precisa responder algumas perguntas sobre um crime. Responda com \\\"1\\\" - Sim ou \\\"0\\\" - Não\\n\")\n",
        "\n",
        "# rX = Resposta X\n",
        "print(\"[1 - Sim]\\n[0 - Não]\")\n",
        "r1 = int(input(\"Você telefonou para a vítima? \"))\n",
        "r2 = int(input(\"Você esteve no local do crime? \"))\n",
        "r3 = int(input(\"Você mora perto da vítima? \"))\n",
        "r4 = int(input(\"Você devia dinheiro para a vítima? \"))\n",
        "r5 = int(input(\"Você já trabalhou com a vítima? \"))\n",
        "\n",
        "rtotal = r1 + r2 + r3 + r4 + r5\n",
        "\n",
        "print(f\"Classificação, segunda as {rtotal} afirmações sobre as 5 perguntas:\")\n",
        "\n",
        "if rtotal == 2:\n",
        "  print(\"Suspeito(a)\")\n",
        "elif 3 <= rtotal and rtotal <= 4:\n",
        "  print(\"Cúmplice\")\n",
        "elif rtotal == 5:\n",
        "  print(\"Assassino\")\n",
        "elif rtotal > 5 or rtotal < 0:\n",
        "  print(\"Algo deu errado\")\n",
        "else:\n",
        "  print(\"Inocente\")\n"
      ]
    },
    {
      "cell_type": "markdown",
      "metadata": {
        "id": "JlzFnpl5t0so"
      },
      "source": [
        "10. Faça um Programa que peça os 3 lados de um triângulo. O programa deverá informar se os valores podem ser um triângulo.\n",
        "\n",
        "Fontes para resolução:\n",
        "\n",
        "[**Condição de existência de um triângulo**](https://mundoeducacao.uol.com.br/matematica/condicao-existencia-um-triangulo.htm#:~:text=S%C3%B3%20ir%C3%A1%20existir%20um%20tri%C3%A2ngulo,soma%20dos%20outros%20dois%20lados.)\n",
        "\n",
        "[**O que é a condição de existência de um triângulo?**](https://brasilescola.uol.com.br/o-que-e/matematica/o-que-e-a-condicao-existencia-um-triangulo.htm)"
      ]
    },
    {
      "cell_type": "code",
      "execution_count": null,
      "metadata": {
        "id": "vFVxw_1OuaKc"
      },
      "outputs": [],
      "source": [
        "a = int(input(f\"Digite o 1º lado: \"))\n",
        "b = int(input(f\"Digite o 2º lado: \"))\n",
        "c = int(input(f\"Digite o 3º lado: \"))\n",
        "\n",
        "# Testando se é um triângulo\n",
        "if abs(a - b) < c and a + b > c:\n",
        "  triangulo = True\n",
        "elif abs(b - c) < a and b + c > a:\n",
        "  triangulo = True\n",
        "elif abs(a - c) < b and a + c > b:\n",
        "  triangulo = True\n",
        "else:\n",
        "  triangulo = False\n",
        "\n",
        "if triangulo == False:\n",
        "  print(\"Não é um triângulo.\")\n",
        "elif triangulo == True:\n",
        "  print(f\"É um triângulo\")\n"
      ]
    }
  ],
  "metadata": {
    "colab": {
      "collapsed_sections": [],
      "provenance": [],
      "authorship_tag": "ABX9TyNsOxQNHIRCxZX441IleNfA",
      "include_colab_link": true
    },
    "kernelspec": {
      "display_name": "Python 3",
      "name": "python3"
    },
    "language_info": {
      "name": "python"
    }
  },
  "nbformat": 4,
  "nbformat_minor": 0
}