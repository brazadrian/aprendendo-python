{
  "cells": [
    {
      "cell_type": "markdown",
      "metadata": {
        "id": "view-in-github",
        "colab_type": "text"
      },
      "source": [
        "<a href=\"https://colab.research.google.com/github/brazadrian/aprendendo-python/blob/at-5-coding-ii/AT5_Coding_II.ipynb\" target=\"_parent\"><img src=\"https://colab.research.google.com/assets/colab-badge.svg\" alt=\"Open In Colab\"/></a>"
      ]
    },
    {
      "cell_type": "markdown",
      "metadata": {
        "id": "q7eV2n5ZysiV"
      },
      "source": [
        "1. Use uma função que receba um valor n inteiro e imprima até a n-ésima linha para um n informado pelo usuário.\n",
        "![image.png](data:image/png;base64,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)\n",
        "\n",
        "Fontes:\n",
        "\n",
        "- [Como imprimir sem quebrar linha - Stack overflow](https://pt.stackoverflow.com/questions/146080/h%C3%A1-uma-maneira-de-imprimir-tudo-sem-a-quebra-de-linha)\n",
        "- [Incrementando em Python - Stack overflow](https://stackoverflow.com/questions/2632677/python-integer-incrementing-with)"
      ]
    },
    {
      "cell_type": "code",
      "execution_count": null,
      "metadata": {
        "id": "y2F4ASPzyomG"
      },
      "outputs": [],
      "source": [
        "def enesima(n = 1):\n",
        "  i = 0\n",
        "  listesima = []\n",
        "\n",
        "  while(i < n):\n",
        "    listesima.append(n)\n",
        "    i += 1\n",
        "  else:\n",
        "    print(*listesima, sep=\" \")\n",
        "\n",
        "num = int(input(\"Digite um valor inteiro (n) para que seja impresso até a n-ésima: \"))\n",
        "enesima(num)"
      ]
    },
    {
      "cell_type": "markdown",
      "metadata": {
        "id": "oxEcgmkqWyjP"
      },
      "source": [
        "2. Escreva um programa para criar uma função usando as seguintes\n",
        "condições:\n",
        "  - Ele deve aceitar o nome e o salário do funcionário e exibir ambos.\n",
        "  - Se o salário estiver ausente na chamada de função, atribua o valor padrão 9000 ao salário."
      ]
    },
    {
      "cell_type": "code",
      "execution_count": null,
      "metadata": {
        "id": "afIVmLxbW5qp"
      },
      "outputs": [],
      "source": [
        "def func_nome_salario(nome, salario = 9000.00):\n",
        "  nome = str(nome)\n",
        "  print(f\"O funcionário {nome} recebe {salario}\")\n",
        "\n",
        "# fnc = Funcionário\n",
        "fnc_nome = str(input(\"Digite o nome do funcionário: \"))\n",
        "fnc_salario = float(input(\"Digite o salário do funcionário: \"))\n",
        "\n",
        "# Chamando função\n",
        "func_nome_salario(fnc_nome, fnc_salario)\n"
      ]
    },
    {
      "cell_type": "markdown",
      "metadata": {
        "id": "14lp35LgW78T"
      },
      "source": [
        "3. Faça uma função que computa a potência **aᵇ** para valores **a** e **ᵇ** (assuma números inteiros) passados por parâmetro (não use o operador**).\n",
        "\n",
        "Fonte:\n",
        "[Como imprimir sobrescrito](https://acervolima.com/como-imprimir-sobrescrito-e-subscrito-em-python/)"
      ]
    },
    {
      "cell_type": "code",
      "execution_count": null,
      "metadata": {
        "id": "lAfzv1ObW8Wd"
      },
      "outputs": [],
      "source": [
        "def potencia(a, b):\n",
        "  # Conversão para inteiro\n",
        "  a, b = int(a), int(b)\n",
        "  \n",
        "  # Variáveis\n",
        "  i = 0 # Contador\n",
        "  pow = 1 # Potência\n",
        "  \n",
        "  # Laço para fazer a potenciação\n",
        "  while (i < b):\n",
        "    pow = pow * a\n",
        "    i += 1\n",
        "  return pow\n",
        "\n",
        "# Entrada de dados\n",
        "print(\"Potenciação: \")\n",
        "base = int(input(\"Digite o número base (b): \"))\n",
        "expo = int(input(\"Digite o expoente (ⁿ): \"))\n",
        "\n",
        "# Chamando função\n",
        "potencia_var = potencia(base, expo)\n",
        "print(f\"{base}^{expo} = {potencia_var}\")\n",
        "# u00b2n = ⁿ -> sobrescrito"
      ]
    },
    {
      "cell_type": "markdown",
      "metadata": {
        "id": "608_jazuW8-c"
      },
      "source": [
        "4. Defina uma função calcularCubo() que recebe um argumento tipo inteiro. Faça essa função retornar o cubo desse número (ou seja, elevado a 3). Defina uma segunda função que recebe um argumento tipo inteiro. Se esse número for divisível por 3, a segunda função deve chamar calcularCubo() e retornar seu resultado. Caso contrário, a segunda função deve retornar uma mensagem."
      ]
    },
    {
      "cell_type": "code",
      "execution_count": null,
      "metadata": {
        "id": "ALCuXnBDW8-c"
      },
      "outputs": [],
      "source": [
        "# Função 1 - Calcular o Cubo de um inteiro qualquer\n",
        "def calcularCubo(num):\n",
        "  num = int(num)\n",
        "  cubo = num\n",
        "  for i in range(0, 2):\n",
        "    cubo *= num\n",
        "  return cubo\n",
        "\n",
        "# Função 2 - Testar se é divisível por 3 e calcular seu cubo ou imprimir mensagem\n",
        "def divTres(num_div):\n",
        "  # Convertendo para inteiro\n",
        "  num_div = int(num_div)\n",
        "\n",
        "  # Se é divisível por 3\n",
        "  if (num_div % 3) == 0:\n",
        "    # Processamento\n",
        "    num_div_cubo = calcularCubo(num_div)\n",
        "    # Saída\n",
        "    print(f\"{num_div} é divisível por 3, e seu cubo é igual a: {num_div_cubo}\")\n",
        "  else:\n",
        "    print(f\"{num_div} não é divisível por 3.\")\n",
        "  \n",
        "# Entrada de dados\n",
        "numero = int(input(\"Para descobrir o cubo de um número, digite-o: \"))\n",
        "\n",
        "# Chamando a função 1 (Calcular o Cubo de um inteiro qualquer)\n",
        "numero_ao_cubo = calcularCubo(numero)\n",
        "# Saída do cubo\n",
        "print(f\"{numero}³ = {numero_ao_cubo}\")\n",
        "\n",
        "# Chamando a função 2 (Testar se é divisível por 3 e calcular seu cubo ou retornar mensagem)\n",
        "divTres(numero_ao_cubo)\n"
      ]
    },
    {
      "cell_type": "markdown",
      "metadata": {
        "id": "tV40JZ_jW9C_"
      },
      "source": [
        "5. Crie uma função com um argumento (escolha qualquer nome de argumento que desejar). \n",
        "Se o tipo do argumento for int ou float, a função deve retornar o valor absoluto da entrada da função. Caso contrário, a função deve retornar &\"Valor informado não é um número\";. \n",
        "Verifique se funciona chamando a função com -5.6 e \"Uma string\"."
      ]
    },
    {
      "cell_type": "code",
      "execution_count": null,
      "metadata": {
        "id": "qY47XxAGW9C_"
      },
      "outputs": [],
      "source": [
        "def funcao(argumento):\n",
        "  if type(argumento) == float or type(argumento) == int:\n",
        "    print(abs(argumento))\n",
        "  else:\n",
        "    print(\"Valor informado não é um número\")\n",
        "\n",
        "funcao(-5.6)\n",
        "funcao(\"Uma string\")"
      ]
    },
    {
      "cell_type": "markdown",
      "metadata": {
        "id": "3AV2eKsgW9Hy"
      },
      "source": [
        "6. Dados dois números inteiros, retorne seu produto somente se o produto for igual ou menor que 1000, caso contrário, retorne sua soma."
      ]
    },
    {
      "cell_type": "code",
      "execution_count": null,
      "metadata": {
        "id": "NPMhMxGPW9Hy"
      },
      "outputs": [],
      "source": [
        "def produto_ou_soma(n1, n2):\n",
        "  # Conversão em inteiros\n",
        "  n1, n2 = int(n1), int(n2)\n",
        "  \n",
        "  # Processamento\n",
        "  produto = n1 * n2\n",
        "  soma = n1 + n2\n",
        "\n",
        "  # Condições\n",
        "  if produto <= 1000:\n",
        "    return produto\n",
        "  else:\n",
        "    return soma\n",
        "\n",
        "print(produto_ou_soma(500, 2))\n",
        "print(produto_ou_soma(500, 3))"
      ]
    },
    {
      "cell_type": "markdown",
      "metadata": {
        "id": "OG6ZcPN1W9K8"
      },
      "source": [
        "7. Crie uma função que itere a lista de números fornecida e imprima apenas os números que são divisíveis por 5 (resto = 0)."
      ]
    },
    {
      "cell_type": "code",
      "execution_count": null,
      "metadata": {
        "id": "C1tg-7eKW9K9"
      },
      "outputs": [],
      "source": [
        "def iterar(numeros):\n",
        "  # Percorrendo a lista\n",
        "  lista_divisiveis = []\n",
        "  for i in numeros:\n",
        "    # Verificando de é divisível por 5\n",
        "    if (i % 5) == 0:\n",
        "      lista_divisiveis.append(i)\n",
        "    # Continuar percorrendo, quando não for divisível\n",
        "    else:\n",
        "      continue\n",
        "  return(lista_divisiveis)\n",
        "\n",
        "# Lista com os valores\n",
        "lista = [12, 15, 16, 20, 23, 25, 30]\n",
        "print(f\"Lista completa: {lista}\")\n",
        "\n",
        "# Chamando a função\n",
        "lista_com_divisiveis = iterar(lista)\n",
        "print(f\"\\nLista com divisíveis por 5: {lista_com_divisiveis}\")"
      ]
    },
    {
      "cell_type": "markdown",
      "metadata": {
        "id": "nze7XEz4W9Ne"
      },
      "source": [
        "8. Escreva um programa que solicite ao usuário o número de horas trabalhadas e a taxa por hora para calcular o salário bruto. Leve em conta que a fábrica paga ao funcionário 1,5 vezes a taxa horária para horas trabalhadas acima de 40 horas."
      ]
    },
    {
      "cell_type": "code",
      "execution_count": null,
      "metadata": {
        "id": "yXRpqBnuW9Nf"
      },
      "outputs": [],
      "source": [
        "# Função que recebe Horas trabalhadas e Taxa horária e retorna o salário bruto do funcionário, considerando horas extras\n",
        "def salario_bruto(hora_trabalho, taxa_horaria):\n",
        "  # Calculo do salário bruto\n",
        "  salario_bruto = hora_trabalho * taxa_horaria\n",
        "  \n",
        "  # Calculando hora extra\n",
        "  if hora_trabalho > 40:\n",
        "    # Separando o tempo de hora extra\n",
        "    hora_extra = hora_trabalho - 40\n",
        "    # Calculando o valor adicional\n",
        "    adicional = hora_extra * (taxa_horaria * 1.5)\n",
        "    # Adicionando o valor adicional ao salário bruto\n",
        "    salario_bruto += adicional\n",
        "  # Retornando o salário bruto\n",
        "  return salario_bruto\n",
        "\n",
        "# Entrada de dados (horas trabalhadas e taxa por hora)\n",
        "horas_trabalhadas = int(input(\"Digite as horas trabalhadas: \"))\n",
        "hora_taxa = float(input(\"Digite a taxa por hora em R$: \"))\n",
        "\n",
        "# Chamada da função\n",
        "salario_bruto = salario_bruto(horas_trabalhadas, hora_taxa)\n",
        "\n",
        "# Saída de dados\n",
        "print(f\"O salário bruto do funcionário é de: {salario_bruto}\")"
      ]
    },
    {
      "cell_type": "markdown",
      "metadata": {
        "id": "QopM1x_bW9Pz"
      },
      "source": [
        "9. Faça uma função que recebe um valor inteiro e verifica se o valor é par ou ímpar. A função deve retornar um valor booleano."
      ]
    },
    {
      "cell_type": "code",
      "execution_count": null,
      "metadata": {
        "id": "Qgwo_IphW9Pz"
      },
      "outputs": [],
      "source": [
        "def impar(num):\n",
        "  impar = True\n",
        "  # Verificando se é um valor inteiro\n",
        "  try:\n",
        "    int(num)\n",
        "  except:\n",
        "    print(\"Favor, passar um número inteiro\")\n",
        "    exit()\n",
        "  \n",
        "  # Verificando se é impar\n",
        "  if (num % 2) == 1:\n",
        "    impar = True\n",
        "  else:\n",
        "    impar = False\n",
        "  \n",
        "  # Retornando o valor\n",
        "  return impar\n",
        "\n",
        "# Essa função poderia estar dentro da impar(), mas achei interessante deixá-la aqui\n",
        "# Ela recebe o numero, e a informação de se é impar ou não, não retorna nada\n",
        "def impar_saida(numero, impar_ou_par):\n",
        "  # Saída, se for impar\n",
        "  if impar == True:\n",
        "    print(f\"O número {numero} é impar\")\n",
        "  # Saída, se não for impar\n",
        "  elif impar == False:\n",
        "    print(f\"O número {numero} não é impar\")\n",
        "\n",
        "numero = int(input(\"Digite um valor e veja se é impar: \"))\n",
        "impar = impar(numero)\n",
        "impar_saida(numero, impar)"
      ]
    },
    {
      "cell_type": "markdown",
      "metadata": {
        "id": "FDst5lx_W9Uw"
      },
      "source": [
        "10. A prefeitura de uma cidade fez uma pesquisa \n",
        "entre os seus habitantes, coletando dados sobre o salário e número de filhos. Leia esses dados para um número não determinado de pessoas e retorne por meio de uma função a média de salário da população, a média do número de filhos, o maior salário e o percentual de pessoas com salário até 3 salários mínimos (~R$ 1.200)."
      ]
    },
    {
      "cell_type": "code",
      "execution_count": 2,
      "metadata": {
        "colab": {
          "base_uri": "https://localhost:8080/"
        },
        "id": "kYBERwxtgm-1",
        "outputId": "99103798-a550-4f3d-950a-936ad886d719"
      },
      "outputs": [
        {
          "name": "stdout",
          "output_type": "stream",
          "text": [
            "Digite quantas pessoas existem na cidade: 7\n",
            "1º cidadão: \n",
            "Digite o salário em R$: 1280.30\n",
            "Digite a qt. de filhos: 3\n",
            "2º cidadão: \n",
            "Digite o salário em R$: 1340.75\n",
            "Digite a qt. de filhos: 2\n",
            "3º cidadão: \n",
            "Digite o salário em R$: 1220.72\n",
            "Digite a qt. de filhos: 1\n",
            "4º cidadão: \n",
            "Digite o salário em R$: 1200.67\n",
            "Digite a qt. de filhos: 0\n",
            "5º cidadão: \n",
            "Digite o salário em R$: 5058.45\n",
            "Digite a qt. de filhos: 1\n",
            "6º cidadão: \n",
            "Digite o salário em R$: 4378.60\n",
            "Digite a qt. de filhos: 1\n",
            "7º cidadão: \n",
            "Digite o salário em R$: 7000.00\n",
            "Digite a qt. de filhos: 3\n"
          ]
        }
      ],
      "source": [
        "salarios = []\n",
        "num_filhos = []\n",
        "\n",
        "# Pergunta quantas vezes o usuário quer inserir os dados\n",
        "qnt = int(input(\"Digite quantas pessoas existem na cidade: \"))\n",
        "\n",
        "for i in range (0, qnt):\n",
        "  print(f\"{i + 1}º cidadão: \")\n",
        "  salarios.append(float(input(\"Digite o salário em R$: \")))\n",
        "  num_filhos.append(int(input(\"Digite a qt. de filhos: \")))"
      ]
    },
    {
      "cell_type": "code",
      "execution_count": null,
      "metadata": {
        "id": "FTL-zwD7b0cS"
      },
      "outputs": [],
      "source": [
        "import statistics\n",
        "\n",
        "baixarenda = 0\n",
        "\n",
        "def consulta(list_salarios, list_qt_filhos):\n",
        "\n",
        "  # round() serve para arredondar os números\n",
        "  salario_media = round(statistics.mean(list_salarios), 2)\n",
        "  filhos_media = round(statistics.mean(num_filhos))\n",
        "  salario_maior = round(max(list_salarios), 2)\n",
        "  salario_baixos = 0\n",
        "\n",
        "  # Percorre o conjunto dos salários\n",
        "  for i in range (0, len(list_salarios)):\n",
        "    # Verifica se existe salário menor que 3 salários mínimos\n",
        "    if list_salarios[i] < (1200 * 3):\n",
        "      # Incrementa à variável de salários baixos\n",
        "      salario_baixos += 1\n",
        "  # Serve para o cálculo do percentual de quem tem menos de 3 SM\n",
        "\n",
        "  salarios_3sm = round((salario_baixos / len(salarios)) * 100, 2)\n",
        "\n",
        "  print(f\"A média salarial é igual a: {salario_media}\")\n",
        "  print(f\"O maior salário é igual a: {salario_maior}\")\n",
        "  print(f\"A média de filhos é igual a: {filhos_media}\")\n",
        "  print(f\"Percentual de quem recebe menos de 3 SM: {salarios_3sm}%\")\n",
        "\n",
        "consulta(salarios, num_filhos)"
      ]
    }
  ],
  "metadata": {
    "colab": {
      "provenance": [],
      "authorship_tag": "ABX9TyPwOq1sDQZNR+nIzLlQ3d18",
      "include_colab_link": true
    },
    "kernelspec": {
      "display_name": "Python 3",
      "name": "python3"
    },
    "language_info": {
      "name": "python"
    }
  },
  "nbformat": 4,
  "nbformat_minor": 0
}